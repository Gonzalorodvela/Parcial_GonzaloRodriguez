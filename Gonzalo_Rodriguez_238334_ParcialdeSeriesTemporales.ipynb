{
  "cells": [
    {
      "metadata": {
        "trusted": true
      },
      "cell_type": "code",
      "source": "# Parcial: Curso Análisis Predictivo de Series Temporales\n\n## Posgrado de Analítica de Big Data\n\n## Universidad ORT Uruguay\n\n### Curso 2020\n\n**Fecha límite de entrega:** 17/7/2020, 21:00hs. por el [sitio de gestion](http://gestion.ort.edu.uy).",
      "execution_count": null,
      "outputs": []
    },
    {
      "metadata": {
        "trusted": true
      },
      "cell_type": "code",
      "source": "## Ejercicio\n\nEl ejercicio consiste en analizar diferentes modelos para la serie de muertes (cada 10.000 habitantes) relacionadas con influenza y neumonia en EEUU, disponible en la biblioteca `astsa`. La serie, denominada `flu`, comienza en 1968 y toma valores mensuales hasta 1978 inclusive. \n\nSe propone:\n\n1. Realizar un análisis exploratorio de la serie, determinando tendencias y posibles estacionalidades. Analizar también la autocorrelación de la serie.\n\n2. Realizar un ajuste lineal basado en tendencia y factores estacionales (en principio uno por mes).\n\n3. Realizar un ajuste lineal basado en tendencia y frecuencias. Justificar la elección de las frecuencias incluidas en el ajuste.\n\n4. Comparar los ajustes anteriores desde el punto de vista del error cometido. ¿Con cuál se quedaría si debiera elegir? Justifique.\n\n5. A los residuos de ambos ajustes anteriores, analizar si es posible modelarlos mediante un proceso ARMA(p,q) adecuado. Justifique la elección del orden en cada caso y analice los residuos obtenidos (no importa si no son Gaussianos).\n\n6. Discutir cuál de los caminos seguidos logra mejor ajuste luego de ajustar los residuos.\n\n7. Realizar una predicción completa para los años 1979 y 1980 de la serie a partir del ajuste que crea conveniente.\n\n8. Se dispone además de una serie de temperaturas medias mensuales en EEUU en el archivo `temperaturas.csv`. Analizar:\n * Si hay correlación cruzada entre la serie de muertes por gripe y neumonia y la temperatura observada en cada mes.\n \n * Si esta correlación se mantiene una vez que se saca el efecto estacional a la temperatura.\n \n \n**Nota:** Para el análisis pueden utilizarse todas las bibliotecas vistas en el curso así como otras que entiendan convenientes. Se recomienda en particular `forecast` para algunos ajustes y predicciones. ",
      "execution_count": null,
      "outputs": []
    },
    {
      "metadata": {
        "trusted": true
      },
      "cell_type": "code",
      "source": "install.packages(\"astsa\")\ninstall.packages(\"forecast\")\nlibrary(lmtest)\nlibrary(forecast)\nlibrary(astsa)\ntsplot(flu)\noptions(repr.plot.width=10, repr.plot.height=6) #ajusta tamaño de graficas",
      "execution_count": null,
      "outputs": [
        {
          "output_type": "stream",
          "text": "Installing package into ‘/home/nbuser/R’\n(as ‘lib’ is unspecified)\nInstalling package into ‘/home/nbuser/R’\n(as ‘lib’ is unspecified)\n",
          "name": "stderr"
        }
      ]
    },
    {
      "metadata": {
        "trusted": true
      },
      "cell_type": "code",
      "source": "flu",
      "execution_count": null,
      "outputs": []
    },
    {
      "metadata": {},
      "cell_type": "markdown",
      "source": "### $Parte 1:$ \nRealizar un análisis exploratorio de la serie, determinando tendencias y posibles estacionalidades. Analizar también la autocorrelación de la serie."
    },
    {
      "metadata": {
        "trusted": true
      },
      "cell_type": "code",
      "source": "plot(decompose(flu)) #Analizamos la descomposicion de la serie",
      "execution_count": null,
      "outputs": []
    },
    {
      "metadata": {
        "trusted": true
      },
      "cell_type": "code",
      "source": "#Le realizamos el periodigrama a los residuos del Fit_0 para sacarle la tendencia.\n\nFit_0 = lm(flu~t)\n\nn<-length(residuals(Fit_0))\nI = abs(fft(residuals(Fit_0)))^2/n \nP = (4/n)*I[1:(n/2)]\nf = 12 * (0:(n/2-1))/n\n\nplot(f, P, type=\"l\", col = 8, xlab=\"Frequency\", ylab=\"Scaled Periodogram\")\ntsplot(f,P, xlim=c(0,10))",
      "execution_count": null,
      "outputs": []
    },
    {
      "metadata": {},
      "cell_type": "markdown",
      "source": "𝑂𝑏𝑠𝑒𝑟𝑣𝑎𝑐𝑖ó𝑛:  Por medio del periodograma podemos observar que existe un componente periodico, según la gráfica anterior se observa claramente un peirodo que se repite de forma anual, lo que indica que hay un ciclo periodico cada año. También se puede observar que existe pero mucho mas leve tambien internamente dos ciclos anuales.\nEn el decompose de mas arriba se puede observar una leve tendencia decreciente de la serie."
    },
    {
      "metadata": {},
      "cell_type": "markdown",
      "source": "### $Parte2:$\nRealizar un ajuste lineal basado en tendencia y factores estacionales (en principio uno por mes).\n"
    },
    {
      "metadata": {
        "trusted": true
      },
      "cell_type": "code",
      "source": "season = factor(cycle(flu)) \nt = time(flu)-1968\n\nFit_1 = lm(flu ~ 0 + t + season )\nsummary(Fit_1)",
      "execution_count": null,
      "outputs": []
    },
    {
      "metadata": {
        "trusted": true
      },
      "cell_type": "code",
      "source": "acf2(residuals(Fit_1), , col = 8)",
      "execution_count": null,
      "outputs": []
    },
    {
      "metadata": {
        "trusted": true
      },
      "cell_type": "code",
      "source": "Ajuste_1 = ts(fitted(Fit_1),start=1968,freq=12)\n\ntsplot(flu)\nlines(Ajuste_1,col=12)",
      "execution_count": null,
      "outputs": []
    },
    {
      "metadata": {},
      "cell_type": "markdown",
      "source": "### $Parte 3:$\nRealizar un ajuste lineal basado en tendencia y frecuencias. Justificar la elección de las frecuencias incluidas en el ajuste. "
    },
    {
      "metadata": {
        "trusted": true
      },
      "cell_type": "code",
      "source": "#Viendo el periodroigrma de la parte 1 utilizamos la frecuencia para un modelo seno y coseno con frecuencia 1 y 2. \n#También comparamos con el modelo de frecuencia 1 solo, y comparamos los modelos segun los residuos.\n\nFit_2_prueba<-lm(flu~t+sin(2*pi*t)+cos(2*pi*t))\n\nFit_2<-lm(flu~t+sin(2*pi*t)+cos(2*pi*t)+sin(4*pi*t)+cos(4*pi*t))\n\n\nSSE_2_prueba = sum(residuals(Fit_2_prueba)^2) #Modelo lineal con frecuencia 1\nSSE_2 = sum(residuals(Fit_2)^2) #Modelo lineal con frecuencia 1 y 2\n\n\nR2 = (SSE_2_prueba-SSE_1)/SSE_2_prueba\n\n#muestro los valores\n\nSSE_2_prueba\nSSE_2\nR2\n\n\n# El mejor modelo es que tiene frecuencia 1 y 2 dado que tiene menor SSE ",
      "execution_count": null,
      "outputs": []
    },
    {
      "metadata": {
        "trusted": true
      },
      "cell_type": "code",
      "source": "summary(Fit_2)\n\nacf(residuals(Fit_2), , col = 8)\npacf(residuals(Fit_2),  col = 8)",
      "execution_count": null,
      "outputs": []
    },
    {
      "metadata": {
        "trusted": true
      },
      "cell_type": "code",
      "source": "Ajuste_2 = ts(fitted(Fit_2),start=1968,freq=12)\n\ntsplot(flu)\nlines(Ajuste_2, col=2)",
      "execution_count": null,
      "outputs": []
    },
    {
      "metadata": {},
      "cell_type": "markdown",
      "source": "### $Parte4$:\nComparar los ajustes anteriores desde el punto de vista del error cometido. ¿Con cuál se quedaría si debiera elegir? Justifique.\n\n"
    },
    {
      "metadata": {
        "trusted": true
      },
      "cell_type": "code",
      "source": "## Para comparar los ajustes de los modelos y estudiar el error cometido, recurrimos al estimador de suma de cuadrado de los residuos.\n\nSSE = sum((flu-mean(flu))^2) #Este se hace para ver como mejora sacandole la media\nSSE_1 = sum(residuals(Fit_1)^2) #Modelo lineal 1\nSSE_2 = sum(residuals(Fit_2)^2) #Modelo lineal 2\n\n\n\nR2 = (SSE_2-SSE_1)/SSE_2\n\n#muestro los valores\nSSE\nSSE_1\nSSE_2\nR2 #El R^2 es una medida de correlación de nuestras variables, o bien cuánto mejora el ajuste en términos relativos respecto a la media.",
      "execution_count": null,
      "outputs": []
    },
    {
      "metadata": {},
      "cell_type": "markdown",
      "source": "### Lo que se puede observar que el modelo 1 (Fit_1) en terminos relativos tiene un mejor ajuste del 10% aprox en comparacion con el modelo 2 (Fit_2)"
    },
    {
      "metadata": {},
      "cell_type": "markdown",
      "source": "### $Parte 5:$ \nA los residuos de ambos ajustes anteriores, analizar si es posible modelarlos mediante un proceso ARMA(p,q) adecuado. Justifique la elección del orden en cada caso y analice los residuos obtenidos (no importa si no son Gaussianos).\n\n"
    },
    {
      "metadata": {
        "trusted": true
      },
      "cell_type": "code",
      "source": "# Modelo lineal 1\ny = residuals(Fit_1)\nhead(y)\nacf2(y)\n",
      "execution_count": null,
      "outputs": []
    },
    {
      "metadata": {
        "trusted": true
      },
      "cell_type": "code",
      "source": "#Según los valors del acf y pacf, le ajustamos un modelo MA(1) y un AR(2)\nFit_1.2 = Arima(y , c(2,0,1),include.mean = FALSE) \nsummary(Fit_1.2)",
      "execution_count": null,
      "outputs": []
    },
    {
      "metadata": {
        "trusted": true
      },
      "cell_type": "code",
      "source": "acf2(residuals(Fit_1.2))",
      "execution_count": null,
      "outputs": []
    },
    {
      "metadata": {
        "trusted": true
      },
      "cell_type": "code",
      "source": "# Modelo lineal 2\nj = residuals(Fit_2)\nhead(j)\nacf2(j)",
      "execution_count": null,
      "outputs": []
    },
    {
      "metadata": {
        "trusted": true
      },
      "cell_type": "code",
      "source": "#Según los valors del acf y pacf, le ajustamos un modelo MA(1) y un AR(2)\nFit_2.2 = Arima(j, c(2,0,1),include.mean = FALSE) \nsummary(Fit_2.2)",
      "execution_count": null,
      "outputs": []
    },
    {
      "metadata": {
        "trusted": true
      },
      "cell_type": "code",
      "source": "acf2(residuals(Fit_2.2))",
      "execution_count": null,
      "outputs": []
    },
    {
      "metadata": {},
      "cell_type": "markdown",
      "source": "### $Parte 6:$\n\nDiscutir cuál de los caminos seguidos logra mejor ajuste luego de ajustar los residuos.\n\n"
    },
    {
      "metadata": {
        "trusted": true
      },
      "cell_type": "code",
      "source": "## Analizamos los residuos de los modelos\n\ntsplot(residuals(Fit_1.2))\ncheckresiduals(Fit_1.2)\n\n# El p-valor nos queda mayor que 0.05 por lo que se puede decir que los residuos son ruido blanco",
      "execution_count": null,
      "outputs": []
    },
    {
      "metadata": {
        "trusted": true
      },
      "cell_type": "code",
      "source": "# Ajuste de los residuos del modelo 2\n\ntsplot(residuals(Fit_2.2))\ncheckresiduals(Fit_2.2)\n\n#En este caso el p-valor quedo por encima del 0,05 y también los residuos son ruido blanco.",
      "execution_count": null,
      "outputs": []
    },
    {
      "metadata": {
        "trusted": true
      },
      "cell_type": "code",
      "source": "AIC(Fit_1.2)\nAIC(Fit_2.2)\nBIC(Fit_1.2)\nBIC(Fit_2.2)",
      "execution_count": null,
      "outputs": []
    },
    {
      "metadata": {},
      "cell_type": "markdown",
      "source": "### Como los valores de AIC (criterio de máxima verosimilitud) y BIC (el estadístico BIC aumenta la penalidad en modelos con muchas variables y dicho estadistico aumenta la penalidad en modelos con muchas variables ) quedaron mas bajos en el modelo 2 ajustados por los residuos un AR(3) y un MA(2). Esto se contrasta con la primera analisis comparativo donde el modelo 1 era mejor pero podiamos caer en overfiting dado que el modelo tenia muchos parámetros."
    },
    {
      "metadata": {},
      "cell_type": "markdown",
      "source": "### $Parte 7:$\n\nRealizar una predicción completa para los años 1979 y 1980 de la serie a partir del ajuste que crea conveniente.\n\n"
    },
    {
      "metadata": {
        "trusted": true
      },
      "cell_type": "code",
      "source": "Pred_1= forecast(Fit_2.2,h=24) \ntsplot(Pred_1,col=\"blue\", lwd=2, main = \"Predicción fit\" ,xlab = \"Tiempo\", ylab = \"\")",
      "execution_count": null,
      "outputs": []
    },
    {
      "metadata": {
        "trusted": true
      },
      "cell_type": "code",
      "source": "## Construimos los nuevos datos a evaluar el modelo\n\n#Agregamos tiempos para 4 años en el futuro. Notar el -1970 para que quede igual que la que ajustamos.\nnew_t = seq(1979,1980.917,by=0.083) - 1970\n#Lo convierto en serie temporal\nnew_t = ts(new_t,start=1979,freq=12)\n\n#Predigo sobre los nuevos datos.\nnew_data = data.frame(t=new_t)\nprediccion_1= predict(Fit_2, new_data);\n\n#Convierto el resultado en time series\nprediccion_final = ts(prediccion_1,start=1979,freq=12)\nprediccion_final\n",
      "execution_count": null,
      "outputs": []
    },
    {
      "metadata": {
        "trusted": true
      },
      "cell_type": "code",
      "source": "tsplot(flu,xlim=c(1970,1982),ylim=c(0,0.7))\nlines(Ajuste_2,col=2)\nlines(prediccion_final,col=3)",
      "execution_count": null,
      "outputs": []
    },
    {
      "metadata": {
        "trusted": true
      },
      "cell_type": "code",
      "source": "# Armamos la predicion total con los dos modelos (lm y ARMA)\n\npred1_hat= ts(Pred_1$fitted,start = 1978, frequency = 12)\nprint(head(pred1_hat))\n\npred2_hat = ts(prediccion_final,start = 1978, frequency = 12)\nprint(head(pred2_hat))\n\nx_hat = pred1_hat + pred2_hat",
      "execution_count": null,
      "outputs": []
    },
    {
      "metadata": {
        "trusted": true
      },
      "cell_type": "code",
      "source": "tsplot(flu,xlim=c(1968,1980),ylim=c(0,1))\nlines(x_hat,col=2)",
      "execution_count": null,
      "outputs": []
    },
    {
      "metadata": {},
      "cell_type": "markdown",
      "source": "### $Parte 8$: Se dispone además de una serie de temperaturas medias mensuales en EEUU en el archivo `temperaturas.csv`. Analizar:\n * Si hay correlación cruzada entre la serie de muertes por gripe y neumonia y la temperatura observada en cada mes.\n * Si esta correlación se mantiene una vez que se saca el efecto estacional a ambas series. "
    },
    {
      "metadata": {
        "trusted": true
      },
      "cell_type": "code",
      "source": "temp = ts(read.csv(\"temperaturas.csv\")[,\"Value\"],start=1968,freq=12)\ntsplot(temp)",
      "execution_count": null,
      "outputs": []
    },
    {
      "metadata": {},
      "cell_type": "markdown",
      "source": "### Para estudiar la correlacion cruzada entre la serie temp y flu lo que vamos vamos a realizar es lo siguientes:\n1- Estudiar la correlacion cruzada con la funcion ccf, cor para el coeficiente de correlacion y estudiar las graficas que se generar con la función lag2.plot con sus respectivos lags.\n2- Realizar un modelo basico linear con la serie temp para estudiar los residuos y poder compararlos sin el efecto estacional.\n3- Estudiar nuevamente la correlacion cruzada y las graficas para ver como es la correlacion entre las series luego de sacarle el efecto estacional."
    },
    {
      "metadata": {
        "trusted": true
      },
      "cell_type": "code",
      "source": "## Paso 1\n\nccf(flu,temp)\nccf_Values_1 = ccf(flu,temp)\nccf_Values_1",
      "execution_count": null,
      "outputs": []
    },
    {
      "metadata": {
        "trusted": true
      },
      "cell_type": "code",
      "source": "lag2.plot (flu, temp, 10)",
      "execution_count": null,
      "outputs": []
    },
    {
      "metadata": {
        "trusted": true
      },
      "cell_type": "code",
      "source": "cor(flu,temp)",
      "execution_count": null,
      "outputs": []
    },
    {
      "metadata": {
        "trusted": true
      },
      "cell_type": "code",
      "source": "## Paso 2\n\nseason = factor(cycle(temp)) \nt = time(temp)-1968\n\nFit_temp = lm(temp ~ 0 + t + season )\nsummary(Fit_temp)",
      "execution_count": null,
      "outputs": []
    },
    {
      "metadata": {
        "trusted": true
      },
      "cell_type": "code",
      "source": "## Paso 3\n\nresid_Fit_temp = ts(residuals(Fit_temp), start = 1968, freq = 12)\nresid_Fit_1 = ts(residuals(Fit_1), start = 1968, freq = 12)\ntsplot(resid_Fit_temp)",
      "execution_count": null,
      "outputs": []
    },
    {
      "metadata": {
        "trusted": true
      },
      "cell_type": "code",
      "source": "ccf(resid_Fit_temp,resid_Fit_1)\nccf_Values_2 = ccf(resid_Fit_temp,resid_Fit_1)\nccf_Values_2\n\n",
      "execution_count": null,
      "outputs": []
    },
    {
      "metadata": {
        "trusted": true
      },
      "cell_type": "code",
      "source": "lag2.plot (resid_Fit_temp,resid_Fit_1, 10)",
      "execution_count": null,
      "outputs": []
    },
    {
      "metadata": {
        "trusted": true
      },
      "cell_type": "code",
      "source": "cor(resid_Fit_temp,resid_Fit_1)",
      "execution_count": null,
      "outputs": []
    },
    {
      "metadata": {},
      "cell_type": "markdown",
      "source": "### $ Conclusiones: $\n\nLo que se puede ver es que en el paso 1 donde se estudian las series en su forma normal, existe cierta correlación entre ambas y tanto en el ccf como en las gráficas se pueden especificar con los determinados lags. También si vemos el coeficiente de correlación nos da -0,67.\nPor otro lado al sacarle los factores estacionales a las series y realizamos los mismos estudios, se puede observar como la correlación se elimina casi completamente, con un cor de 0.037. Lo mismo se puede ver en los coeficientes de correlación en las gráficas y en el ccf."
    }
  ],
  "metadata": {
    "kernelspec": {
      "name": "r",
      "display_name": "R",
      "language": "R"
    },
    "language_info": {
      "mimetype": "text/x-r-source",
      "name": "R",
      "pygments_lexer": "r",
      "version": "3.5.3",
      "file_extension": ".r",
      "codemirror_mode": "r"
    }
  },
  "nbformat": 4,
  "nbformat_minor": 4
}